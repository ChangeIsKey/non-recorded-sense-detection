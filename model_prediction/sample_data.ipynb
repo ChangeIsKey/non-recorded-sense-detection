{
 "cells": [
  {
   "cell_type": "markdown",
   "metadata": {},
   "source": [
    "### Sample data\n",
    "This notebook samples 150.000 sentences from a corpora for the model prediction.\n",
    "The sentences are cleaned and tokenized.\n",
    "\n",
    "### Usage\n",
    "Set the path to the corpora file in the second cell and adjust the spaCy model accordingly."
   ]
  },
  {
   "cell_type": "code",
   "execution_count": null,
   "metadata": {},
   "outputs": [],
   "source": [
    "import numpy as np\n",
    "import pandas as pd\n",
    "import re\n",
    "import spacy\n",
    "from spacy_langdetect import LanguageDetector\n",
    "from spacy.language import Language"
   ]
  },
  {
   "cell_type": "code",
   "execution_count": null,
   "metadata": {},
   "outputs": [],
   "source": [
    "corpora = \"../data/corpora/eng_news_2020_1M-sentences.txt\"\n",
    "\n",
    "#nlp = spacy.load('sv_core_news_sm')\n",
    "nlp = spacy.load('en_core_web_sm')\n",
    "\n",
    "sample_size = 150000\n",
    "\n",
    "output_file = f\"../data/outputs/annotation_phase_2/SAMPLE_{corpora.split('/')[-1].split('.')[0]}[{sample_size}].csv\""
   ]
  },
  {
   "cell_type": "code",
   "execution_count": null,
   "metadata": {},
   "outputs": [],
   "source": [
    "df = pd.read_csv(corpora, delimiter=\"\\t\", header=None, names=[\"sentence\"])\n",
    "sample = df.sample(sample_size, random_state=1).reset_index(drop=True)\n",
    "\n",
    "print(sample.shape)\n",
    "display(sample.head(10))"
   ]
  },
  {
   "cell_type": "code",
   "execution_count": null,
   "metadata": {},
   "outputs": [],
   "source": [
    "def get_lang_detector(nlp, name):\n",
    "    return LanguageDetector()"
   ]
  },
  {
   "cell_type": "code",
   "execution_count": null,
   "metadata": {},
   "outputs": [],
   "source": [
    "Language.factory(\"language_detector\", func=get_lang_detector)\n",
    "nlp.add_pipe('language_detector', last=True)"
   ]
  },
  {
   "cell_type": "code",
   "execution_count": null,
   "metadata": {},
   "outputs": [],
   "source": [
    "ans = []\n",
    "reason = {\"size\": 0, \"punctuation\": 0, \"language\": 0, \"pos\": 0, \"shape\": 0}\n",
    "characters = ['']\n",
    "max_size = 0\n",
    "\n",
    "for sentence in sample[\"sentence\"]:\n",
    "    # remove characters that are not: a-z, A-Z, 0-9, space, comma, period, question mark, exclamation mark\n",
    "    sentence = re.sub(r\"[^a-zA-Z0-9,.!?' ]+\", \"\", sentence)\n",
    "\n",
    "    # replace double spaces with single space\n",
    "    sentence = re.sub(r\"\\s+\", \" \", sentence)\n",
    "    \n",
    "\n",
    "    if len(sentence) > 300:\n",
    "        reason[\"size\"] += 1\n",
    "        continue\n",
    "    \n",
    "    doc = nlp(sentence, disable=[\"ner\"])\n",
    "\n",
    "    # skip if punctuation is > 25% of all tokens in the sentence\n",
    "    if np.mean([token.is_punct for token in doc]) > 0.25:\n",
    "        reason[\"punctuation\"] += 1\n",
    "        continue\n",
    "\n",
    "    # skip if sentence is not in English\n",
    "    if doc._.language[\"language\"] != \"sv\":\n",
    "        reason[\"language\"] += 1\n",
    "        continue\n",
    "\n",
    "    if len(ans) % 100 == 0:\n",
    "        print(f\"{(len(ans)/len(sample['sentence'])):.2f}%\", end='\\r')\n",
    "\n",
    "\n",
    "    ans.append({\n",
    "        \"sentence\": sentence,\n",
    "        \"lemmas\": [token.lemma_ for token in doc if not token.is_stop and not token.is_punct and token.lemma_ != ' ']\n",
    "    })"
   ]
  },
  {
   "cell_type": "code",
   "execution_count": null,
   "metadata": {},
   "outputs": [],
   "source": [
    "print(f\"Total sentences: {len(sample)}\")\n",
    "print(f\"Total sentences kept: {len(ans)}\")\n",
    "print(f\"Total sentences removed: {len(sample) - len(ans)}\")\n",
    "print(f\"Reasons for removal: {reason}\")"
   ]
  },
  {
   "cell_type": "code",
   "execution_count": null,
   "metadata": {},
   "outputs": [],
   "source": [
    "df = pd.DataFrame(ans)\n",
    "df.to_csv(output_file, sep=\"\\t\", index=False)\n",
    "display(df.head())\n",
    "longest = df[\"sentence\"].apply(len).max()"
   ]
  }
 ],
 "metadata": {
  "kernelspec": {
   "display_name": "venv1",
   "language": "python",
   "name": "python3"
  },
  "language_info": {
   "codemirror_mode": {
    "name": "ipython",
    "version": 3
   },
   "file_extension": ".py",
   "mimetype": "text/x-python",
   "name": "python",
   "nbconvert_exporter": "python",
   "pygments_lexer": "ipython3",
   "version": "3.10.12"
  }
 },
 "nbformat": 4,
 "nbformat_minor": 2
}
