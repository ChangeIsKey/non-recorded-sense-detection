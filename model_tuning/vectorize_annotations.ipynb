{
 "cells": [
  {
   "attachments": {},
   "cell_type": "markdown",
   "metadata": {},
   "source": [
    "### Vectorize annotations\n",
    "This notebook creates usage embeddings for all usages in the annotation data.\n",
    "\n",
    "\n",
    "\n",
    "### Usage\n",
    "Set the variable `annotation_csv` to the according results file of the according human annotation.\n",
    "\n",
    "### Disclaimer\n",
    "This notebook was changed to create different types of usage embeddings. The current version replaces the target word with the headword in the word usage before creating the embedding."
   ]
  },
  {
   "cell_type": "code",
   "execution_count": 2,
   "metadata": {},
   "outputs": [
    {
     "name": "stderr",
     "output_type": "stream",
     "text": [
      "/home/jonathan/.local/lib/python3.10/site-packages/tqdm/auto.py:22: TqdmWarning: IProgress not found. Please update jupyter and ipywidgets. See https://ipywidgets.readthedocs.io/en/stable/user_install.html\n",
      "  from .autonotebook import tqdm as notebook_tqdm\n"
     ]
    }
   ],
   "source": [
    "import json \n",
    "import pandas as pd\n",
    "import sys\n",
    "\n",
    "sys.path.insert(1, '../xl-lexeme/WordTransformer')\n",
    "\n",
    "from InputExample import InputExample\n",
    "from WordTransformer import WordTransformer\n",
    "\n",
    "model = WordTransformer('pierluigic/xl-lexeme') # load model"
   ]
  },
  {
   "cell_type": "code",
   "execution_count": 3,
   "metadata": {},
   "outputs": [],
   "source": [
    "## phase 1\n",
    "annotation_csv = \"../data/annotation_results/phase1/english_assigned.csv\"\n",
    "# annotation_csv = \"../data/annotation_results/phase1/swedish_assigned.csv\"\n",
    "\n",
    "## phase 2\n",
    "#annotation_csv = \"../data/annotation_results/phase2/english_assigned.csv\"\n",
    "# annotation_csv = \"../data/annotation_results/phase2/round2_swedish_assigned.csv\"\n",
    "\n",
    "output_file = f\"../data/outputs/annotation_phase_1/usage_embeddings/{annotation_csv.split('/')[-1].split('.')[0]}_usage_embeddings[SUB].json\""
   ]
  },
  {
   "cell_type": "code",
   "execution_count": 4,
   "metadata": {},
   "outputs": [],
   "source": [
    "annotations = pd.read_csv(annotation_csv, sep=\"\\t\") # read csv\n",
    "annotations = annotations.to_dict(orient=\"records\") # convert to dict\n",
    "\n",
    "results = []\n",
    "\n",
    "\n",
    "for annotation in annotations:\n",
    "    pos1, pos2 = list(map(int, annotation['indices_target_token'].split(':'))) # get positions of target word\n",
    "    context = ''.join((annotation['context'][:pos1], annotation['lemma'], annotation['context'][pos2:])) # get substituted context\n",
    "    pos1, pos2 = (pos1, pos1 + len(annotation['lemma'])) # get new positions of headword in context\n",
    "\n",
    "    embedding = model.encode(InputExample(texts=context, positions=[pos1, pos2])) # generate embedding\n",
    "    results.append(\n",
    "        {\n",
    "            \"lemma\": annotation['lemma'],\n",
    "            \"dataID\": annotation['usageID'],\n",
    "            \"gold_senses\": annotation['sense'],\n",
    "            \"embedding\": embedding.tolist()\n",
    "        })"
   ]
  },
  {
   "cell_type": "code",
   "execution_count": 7,
   "metadata": {},
   "outputs": [],
   "source": [
    "with open(output_file, \"w\", encoding='utf-8') as f:\n",
    "    json.dump(results, f, indent=4, ensure_ascii=False)"
   ]
  }
 ],
 "metadata": {
  "kernelspec": {
   "display_name": "venv",
   "language": "python",
   "name": "python3"
  },
  "language_info": {
   "codemirror_mode": {
    "name": "ipython",
    "version": 3
   },
   "file_extension": ".py",
   "mimetype": "text/x-python",
   "name": "python",
   "nbconvert_exporter": "python",
   "pygments_lexer": "ipython3",
   "version": "3.10.12"
  },
  "orig_nbformat": 4
 },
 "nbformat": 4,
 "nbformat_minor": 2
}
