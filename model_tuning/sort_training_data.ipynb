{
 "cells": [
  {
   "cell_type": "markdown",
   "metadata": {},
   "source": [
    "### Sort training data\n",
    "This notebook filters out all usages from the first human annotation that cannot be used for model tuning.\n",
    "\n",
    "### Usage\n",
    "Set the according paths in the third cell:\n",
    "- `usages_csv`: Path to the CSV file containing majority votes for each usage\n",
    "- `usage_embeddings_file`: Path to the json file containing the embeddings for each usage\n",
    "- `dictionary_file`: Path to the dictionary"
   ]
  },
  {
   "cell_type": "code",
   "execution_count": 4,
   "metadata": {},
   "outputs": [],
   "source": [
    "import json \n",
    "import random\n",
    "import ast\n",
    "import pandas as pd\n",
    "from random import randrange"
   ]
  },
  {
   "cell_type": "code",
   "execution_count": 5,
   "metadata": {},
   "outputs": [
    {
     "name": "stdout",
     "output_type": "stream",
     "text": [
      "seed: 45246\n"
     ]
    }
   ],
   "source": [
    "# generate random seed\n",
    "seed = randrange(100000)\n",
    "print(f\"seed: {seed}\")\n",
    "random.seed(seed)"
   ]
  },
  {
   "cell_type": "code",
   "execution_count": 6,
   "metadata": {},
   "outputs": [],
   "source": [
    "usages_csv = \"../data/annotation_results/phase1/english_assigned.csv\"\n",
    "#usages_csv = \"../data/annotation_results/phase1/swedish_assigned.csv\"\n",
    "\n",
    "## English\n",
    "usage_embeddings_file = \"../data/outputs/usage_embeddings/english_assigned_usage_embeddings.json\"\n",
    "#usage_embeddings_file = \"../data/outputs/usage_embeddings/english_assigned_usage_embeddings[SUB].json\"\n",
    "\n",
    "## Swedish\n",
    "#usage_embeddings_file = \"../data/outputs/usage_embeddings/swedish_assigned_usage_embeddings.json\"\n",
    "#usage_embeddings_file = \"../data/outputs/usage_embeddings/swedish_assigned_usage_embeddings[SUB].json\"\n",
    "\n",
    "dictionary_file = \"../data/dictionaries/wordnet_sense_id.json\"\n",
    "#dictionary_file = \"../data/dictionaries/sw_dict_sense_id.json\"\n",
    "output_file = f\"../data/outputs/FILTERED_{usage_embeddings_file.split('/')[-1].split('.')[0]}.json\""
   ]
  },
  {
   "cell_type": "code",
   "execution_count": 7,
   "metadata": {},
   "outputs": [
    {
     "name": "stdout",
     "output_type": "stream",
     "text": [
      "318\n"
     ]
    }
   ],
   "source": [
    "# load all senses represented in the usages\n",
    "usages_df = pd.read_csv(usages_csv, sep='\\t', index_col=0)\n",
    "senses = list(set(sum([ast.literal_eval(s) for s in usages_df[\"sense\"].unique().tolist()], [])))\n",
    "\n",
    "print(len(senses))"
   ]
  },
  {
   "cell_type": "code",
   "execution_count": 8,
   "metadata": {},
   "outputs": [],
   "source": [
    "with open(dictionary_file, \"r\") as f:\n",
    "    dictionary = json.load(f)"
   ]
  },
  {
   "cell_type": "code",
   "execution_count": 9,
   "metadata": {},
   "outputs": [
    {
     "name": "stdout",
     "output_type": "stream",
     "text": [
      "241\n"
     ]
    }
   ],
   "source": [
    "# remove senses where no sense of the lemma has an example or gloss\n",
    "for lemma in dictionary:\n",
    "    examples = []\n",
    "    glosses = []\n",
    "    for sense in lemma[\"entries\"]:\n",
    "        examples.extend(sense[\"examples\"]) # all examples of the lemma\n",
    "        glosses.append(sense[\"sense\"]) # all glosses of the lemma\n",
    "    if len(examples) == 0 or len(glosses) == 0:\n",
    "       for sense in lemma[\"entries\"]:\n",
    "           if sense[\"identifier\"] in senses:\n",
    "               senses.remove(sense[\"identifier\"])\n",
    "\n",
    "print(len(senses))            "
   ]
  },
  {
   "cell_type": "code",
   "execution_count": 10,
   "metadata": {},
   "outputs": [
    {
     "name": "stdout",
     "output_type": "stream",
     "text": [
      "mandatory known: 38\n",
      "mandatory unknown: 41\n",
      "free: 162\n"
     ]
    }
   ],
   "source": [
    "mandatory_known = []\n",
    "mandatory_unknown = []\n",
    "free = []\n",
    "\n",
    "for lemma in dictionary:\n",
    "    for sense in lemma[\"entries\"]:\n",
    "        if sense[\"identifier\"] in senses:\n",
    "            if sense[\"sense\"] == \"\" or sense[\"examples\"] == []: # if no gloss is given, the sense has to be unknown\n",
    "                mandatory_unknown.append(sense[\"identifier\"])\n",
    "\n",
    "            elif len([s for s in lemma[\"entries\"] if s[\"sense\"] != \"\"]) > 1 and len([s for s in lemma[\"entries\"] if s[\"examples\"] != []]): # if there are multiple senses with gloss, the sense is free\n",
    "                free.append(sense[\"identifier\"])\n",
    "            else:\n",
    "                mandatory_known.append(sense[\"identifier\"]) # if there are no other senses with examples, the sense is mandatory known\n",
    "\n",
    "mandatory_known = list(set(mandatory_known))\n",
    "mandatory_unknown = list(set(mandatory_unknown))\n",
    "free = list(set(free))\n",
    "\n",
    "print(f\"mandatory known: {len(mandatory_known)}\")\n",
    "print(f\"mandatory unknown: {len(mandatory_unknown)}\")\n",
    "print(f\"free: {len(free)}\")"
   ]
  },
  {
   "cell_type": "code",
   "execution_count": 12,
   "metadata": {},
   "outputs": [
    {
     "name": "stdout",
     "output_type": "stream",
     "text": [
      "326\n"
     ]
    }
   ],
   "source": [
    "results = []\n",
    "#senses = list(set(senses) - set(removed))\n",
    "with open(usage_embeddings_file, \"r\") as f:\n",
    "    usage = json.load(f)\n",
    "\n",
    "    for u in usage:\n",
    "        if any(s in senses for s in u[\"gold_senses\"]):\n",
    "            \n",
    "            results.append(u)\n",
    "\n",
    "print(len(results))"
   ]
  },
  {
   "cell_type": "code",
   "execution_count": 14,
   "metadata": {},
   "outputs": [],
   "source": [
    "with open(output_file, \"w\") as f:\n",
    "    json.dump({\n",
    "        \"mandatory_known\": mandatory_known, \n",
    "        \"mandatory_unknown\": mandatory_unknown, \n",
    "        \"free\": free,\n",
    "        \"data\": results        \n",
    "        }, f, indent=4, ensure_ascii=False)"
   ]
  }
 ],
 "metadata": {
  "kernelspec": {
   "display_name": "venv",
   "language": "python",
   "name": "python3"
  },
  "language_info": {
   "codemirror_mode": {
    "name": "ipython",
    "version": 3
   },
   "file_extension": ".py",
   "mimetype": "text/x-python",
   "name": "python",
   "nbconvert_exporter": "python",
   "pygments_lexer": "ipython3",
   "version": "3.10.12"
  },
  "orig_nbformat": 4
 },
 "nbformat": 4,
 "nbformat_minor": 2
}
