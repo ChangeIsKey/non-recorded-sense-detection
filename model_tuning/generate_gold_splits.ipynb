{
 "cells": [
  {
   "cell_type": "markdown",
   "metadata": {},
   "source": [
    "### Generate gold splits\n",
    "This notebook divides the filtered human annotation usages into randomly labeled training sets.\n",
    "\n",
    "### Usage\n",
    "Set the file paths in the second cell and run the notebook to create a fivefold split of the data.\n",
    "To create a different split, change the seed in the third cell or rerun the notebook."
   ]
  },
  {
   "cell_type": "code",
   "execution_count": 11,
   "metadata": {},
   "outputs": [],
   "source": [
    "import json \n",
    "import random\n",
    "import ast\n",
    "from itertools import groupby\n",
    "\n",
    "import numpy as np\n",
    "from random import randrange"
   ]
  },
  {
   "cell_type": "code",
   "execution_count": 12,
   "metadata": {},
   "outputs": [],
   "source": [
    "usage_file = \"../data/outputs/FILTERED_english_assigned_usage_embeddings.json\"\n",
    "#usage_file = \"../data/outputs/FILTERED_english_assigned_usage_embeddings.json\"\n",
    "\n",
    "dictionary_file = \"../data/dictionaries/wordnet_sense_id.json\"\n",
    "#dictionary_file = \"../data/dictionaries/sw_dict_sense_id.json\"\n",
    "\n",
    "output_file = f\"../data/outputs/cross_validation/{usage_file.split('/')[-1].split('.')[0]}_1.json\"\n",
    "\n",
    "number_of_folds = 5"
   ]
  },
  {
   "cell_type": "code",
   "execution_count": 13,
   "metadata": {},
   "outputs": [
    {
     "name": "stdout",
     "output_type": "stream",
     "text": [
      "seed: 88110\n"
     ]
    }
   ],
   "source": [
    "# generate random seed\n",
    "seed = randrange(100000)\n",
    "print(f\"seed: {seed}\")\n",
    "random.seed(seed)"
   ]
  },
  {
   "cell_type": "code",
   "execution_count": 14,
   "metadata": {},
   "outputs": [
    {
     "name": "stdout",
     "output_type": "stream",
     "text": [
      "number of usage embeddings: 326\n"
     ]
    }
   ],
   "source": [
    "with open(usage_file) as f:\n",
    "    usage_embeddings = json.load(f)\n",
    "\n",
    "print(f\"number of usage embeddings: {len(usage_embeddings['data'])}\")"
   ]
  },
  {
   "cell_type": "code",
   "execution_count": 15,
   "metadata": {},
   "outputs": [],
   "source": [
    "dictionary_lemmas = []\n",
    "dictionary_senses = []\n",
    "\n",
    "with open(dictionary_file, \"r\") as f:\n",
    "    dictionary = json.load(f)\n",
    "\n",
    "    for l in dictionary:\n",
    "        for s in l[\"entries\"]:\n",
    "            if s[\"examples\"] != []:\n",
    "                dictionary_senses.append(s[\"identifier\"])\n",
    "                dictionary_lemmas.append(l[\"key\"])\n",
    "\n",
    "\n",
    "dictionary_lemmas = list(set(dictionary_lemmas))\n",
    "dictionary_senses = list(set(dictionary_senses))"
   ]
  },
  {
   "cell_type": "code",
   "execution_count": 16,
   "metadata": {},
   "outputs": [
    {
     "name": "stdout",
     "output_type": "stream",
     "text": [
      "number of mandatory known: 38\n"
     ]
    }
   ],
   "source": [
    "mandatory_known = usage_embeddings[\"mandatory_known\"]\n",
    "print(f\"number of mandatory known: {len(mandatory_known)}\")\n",
    "mandatory_unknown = usage_embeddings[\"mandatory_unknown\"]\n",
    "free_senses = usage_embeddings[\"free\"]"
   ]
  },
  {
   "cell_type": "code",
   "execution_count": 17,
   "metadata": {},
   "outputs": [
    {
     "name": "stdout",
     "output_type": "stream",
     "text": [
      "162\n",
      "known: 141\n",
      "unknown: 41\n",
      "free: 59\n"
     ]
    }
   ],
   "source": [
    "# save one sense of each lemma in known_senses\n",
    "free_senses_by_lemma = sorted(free_senses)\n",
    "free_senses_by_lemma = [list(g) for k, g in groupby(free_senses_by_lemma, lambda x: x.split(\".\")[0])]\n",
    "print(len(free_senses))\n",
    "for l in free_senses_by_lemma:\n",
    "    sense = l.pop(random.randrange(len(l)))\n",
    "    mandatory_known.append(sense)\n",
    "\n",
    "free_senses_by_lemma = [l for l in free_senses_by_lemma if l != []]\n",
    "\n",
    "free_senses = []\n",
    "for l in free_senses_by_lemma:\n",
    "    free_senses.extend(l)\n",
    "\n",
    "print(f\"known: {len(mandatory_known)}\")\n",
    "print(f\"unknown: {len(mandatory_unknown)}\")\n",
    "print(f\"free: {len(free_senses)}\")"
   ]
  },
  {
   "cell_type": "code",
   "execution_count": 18,
   "metadata": {},
   "outputs": [
    {
     "name": "stdout",
     "output_type": "stream",
     "text": [
      "known: 141\n",
      "unknown: 100\n"
     ]
    }
   ],
   "source": [
    "mandatory_unknown = mandatory_unknown + free_senses\n",
    "\n",
    "print(f\"known: {len(mandatory_known)}\")\n",
    "print(f\"unknown: {len(mandatory_unknown)}\")"
   ]
  },
  {
   "cell_type": "code",
   "execution_count": 19,
   "metadata": {},
   "outputs": [
    {
     "name": "stdout",
     "output_type": "stream",
     "text": [
      "assigned: 262\n",
      "not assigned: 64\n"
     ]
    }
   ],
   "source": [
    "assigned = 0\n",
    "for usage in usage_embeddings[\"data\"]:\n",
    "    if all(s in mandatory_unknown for s in usage[\"gold_senses\"]):\n",
    "        usage[\"assigned\"] = False\n",
    "    else:\n",
    "        usage[\"assigned\"] = True\n",
    "        assigned += 1\n",
    "\n",
    "print(f\"assigned: {assigned}\")\n",
    "print(f\"not assigned: {len(usage_embeddings['data']) - assigned}\")"
   ]
  },
  {
   "cell_type": "code",
   "execution_count": 20,
   "metadata": {},
   "outputs": [
    {
     "name": "stdout",
     "output_type": "stream",
     "text": [
      "fold 0: 0.15151515\n",
      "fold 1: 0.16923077\n",
      "fold 2: 0.26153846\n",
      "fold 3: 0.21538462\n",
      "fold 4: 0.18461538\n"
     ]
    }
   ],
   "source": [
    "random.shuffle(usage_embeddings[\"data\"])\n",
    "#display(usage_embeddings[\"data\"][:10])\n",
    "folds = np.array_split(usage_embeddings[\"data\"], number_of_folds)\n",
    "unknowns = {0 : 0, 1 : 0, 2 : 0, 3 : 0, 4 : 0}\n",
    "\n",
    "for i in range(number_of_folds):\n",
    "    for usage in folds[i]:\n",
    "        usage[\"fold\"] = i\n",
    "        if usage[\"assigned\"] == False:\n",
    "            unknowns[i] += 1\n",
    "\n",
    "for i in range(number_of_folds):\n",
    "    print(f\"fold {i}: {unknowns[i]/len(folds[i]):.8f}\")"
   ]
  },
  {
   "cell_type": "code",
   "execution_count": 21,
   "metadata": {},
   "outputs": [],
   "source": [
    "with open(output_file, \"w\") as f:\n",
    "\n",
    "    json.dump({\n",
    "        \"assigned_lemmas\": list(set([s.split('.')[0] for s in mandatory_known + mandatory_unknown])),\n",
    "        \"unknown_senses\": mandatory_unknown,\n",
    "        \"seed\": seed,\n",
    "        \"data\": usage_embeddings[\"data\"]\n",
    "    }, f, indent=4, ensure_ascii=False)"
   ]
  }
 ],
 "metadata": {
  "kernelspec": {
   "display_name": "venv",
   "language": "python",
   "name": "python3"
  },
  "language_info": {
   "codemirror_mode": {
    "name": "ipython",
    "version": 3
   },
   "file_extension": ".py",
   "mimetype": "text/x-python",
   "name": "python",
   "nbconvert_exporter": "python",
   "pygments_lexer": "ipython3",
   "version": "3.10.12"
  }
 },
 "nbformat": 4,
 "nbformat_minor": 2
}
