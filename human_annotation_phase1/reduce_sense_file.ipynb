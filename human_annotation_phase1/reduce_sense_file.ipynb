{
 "cells": [
  {
   "cell_type": "markdown",
   "metadata": {},
   "source": [
    "### Reduce senses file\n",
    "Since the samples from modern and historical corpora are taken independently, sampled senses may be repeated.\n",
    "PhiTag does not allow repeated senses in the input files, so we need to remove duplicates.\n",
    "\n",
    "This notebook removes all duplicate senses from the historical senses file.\n",
    "\n",
    "### Usage\n",
    "Choose the file paths in the second cell. The files will be overwritten."
   ]
  },
  {
   "cell_type": "code",
   "execution_count": 4,
   "metadata": {},
   "outputs": [],
   "source": [
    "import csv\n",
    "import json"
   ]
  },
  {
   "cell_type": "code",
   "execution_count": 5,
   "metadata": {},
   "outputs": [],
   "source": [
    "## English\n",
    "#modern_file = \"../data/outputs/ws_best_en_modern/senses.tsv\"\n",
    "#historical_file = \"../data/outputs/ws_best_en_historical/senses.tsv\"\n",
    "\n",
    "## Swedish\n",
    "modern_file = \"../data/outputs/ws_best_sw_modern/senses.tsv\"\n",
    "historical_file = \"../data/outputs/ws_best_sw_historical/senses.tsv\""
   ]
  },
  {
   "cell_type": "code",
   "execution_count": 6,
   "metadata": {},
   "outputs": [
    {
     "name": "stdout",
     "output_type": "stream",
     "text": [
      "Reduced by 6 senses\n"
     ]
    }
   ],
   "source": [
    "with open(modern_file, \"r\") as mf:\n",
    "    modern_senses = mf.readlines()\n",
    "    reduced_by = 0\n",
    "\n",
    "    with open(historical_file, \"r\") as hf:\n",
    "        historical_senses = hf.readlines()\n",
    "\n",
    "        reduced_senses = []\n",
    "        for hs in historical_senses:\n",
    "            if hs not in modern_senses:\n",
    "                reduced_senses.append(hs)\n",
    "            else:\n",
    "                reduced_by += 1\n",
    "\n",
    "        print(f\"Reduced by {reduced_by} senses\")"
   ]
  },
  {
   "cell_type": "code",
   "execution_count": 7,
   "metadata": {},
   "outputs": [],
   "source": [
    "with open(historical_file.replace(\".tsv\", \"_reduced.tsv\"), \"w\") as rf:\n",
    "    writer = csv.writer(rf, delimiter='\\t', quoting=csv.QUOTE_NONE, escapechar='\\\\', quotechar='')\n",
    "    header = [\"senseID\", \"definition\", \"lemma\"]\n",
    "    writer.writerow(header)\n",
    "    for rs in reduced_senses:\n",
    "        entry = rs.replace(\"\\n\", \"\").split(\"\\t\")\n",
    "        writer.writerow(entry)"
   ]
  }
 ],
 "metadata": {
  "kernelspec": {
   "display_name": "venv",
   "language": "python",
   "name": "python3"
  },
  "language_info": {
   "codemirror_mode": {
    "name": "ipython",
    "version": 3
   },
   "file_extension": ".py",
   "mimetype": "text/x-python",
   "name": "python",
   "nbconvert_exporter": "python",
   "pygments_lexer": "ipython3",
   "version": "3.10.12"
  }
 },
 "nbformat": 4,
 "nbformat_minor": 2
}
