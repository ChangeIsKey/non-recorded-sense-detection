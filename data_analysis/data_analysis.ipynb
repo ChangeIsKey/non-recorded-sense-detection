{
 "cells": [
  {
   "cell_type": "code",
   "execution_count": 1,
   "id": "3fa1ac7f",
   "metadata": {
    "collapsed": false,
    "jupyter": {
     "outputs_hidden": false
    },
    "pycharm": {
     "is_executing": true
    }
   },
   "outputs": [],
   "source": [
    "# general imports\n",
    "import json"
   ]
  },
  {
   "cell_type": "markdown",
   "id": "cf297f5c",
   "metadata": {},
   "source": [
    "#### Dictionary analysis"
   ]
  },
  {
   "cell_type": "code",
   "execution_count": 2,
   "metadata": {},
   "outputs": [],
   "source": [
    "with open(\"../data/dictionaries/wordnet_sense_id.json\") as f: # load wordnet sense id\n",
    "    wn_sense_id = json.load(f)\n",
    "\n",
    "with open(\"../data/dictionaries/sw_dict_sense_id.json\") as f: # load sw sense id\n",
    "    sw_sense_id = json.load(f)"
   ]
  },
  {
   "cell_type": "code",
   "execution_count": 3,
   "metadata": {},
   "outputs": [
    {
     "name": "stdout",
     "output_type": "stream",
     "text": [
      "Swedish Dictionary\n",
      "headwords: 41597\n",
      "senses: 68086\n",
      "avg senses per headword: 1.6368007308219343\n",
      "avg senses per headword with multiple senses: 2.9106318522792844\n",
      "proportion of senses with gloss: 0.7896924477866228\n",
      "avg length of gloss: 34.28279427901873\n",
      "proportion of senes with examples: 0.9999559380783127\n",
      "avg number of examples per sense: 3.366771436124901\n",
      "avg examples per sense with examples: 3.3669197890809746\n",
      "avg length of example: 32.44161758932077\n"
     ]
    }
   ],
   "source": [
    "print(\"Swedish Dictionary\")\n",
    "\n",
    "headwords = []\n",
    "for h in sw_sense_id:\n",
    "    headwords.append(h)\n",
    "print(f\"headwords: {len(headwords)}\")\n",
    "\n",
    "multi_sense_headwords = []\n",
    "multi_example_senses = []\n",
    "senses = []\n",
    "s_gloss = []\n",
    "gloss = []\n",
    "s_examples = []\n",
    "examples = []\n",
    "for h in headwords:\n",
    "    senses.extend(s['identifier'] for s in h['entries'])\n",
    "    if len(h['entries']) > 1:\n",
    "        multi_sense_headwords.append(h)\n",
    "    for s in h['entries']:\n",
    "        if s['sense'] != \"\":\n",
    "            s_gloss.append(s['identifier'])\n",
    "            gloss.append(s['sense'])\n",
    "        if len(s['examples']) > 1:\n",
    "            multi_example_senses.append(s['identifier'])\n",
    "        for e in s['examples']:\n",
    "            s_examples.append(s['identifier'])\n",
    "            examples.extend(s['examples'])\n",
    "\n",
    "senses = list(set(senses))\n",
    "s_gloss = list(set(s_gloss))\n",
    "s_examples = list(set(s_examples))\n",
    "\n",
    "print(f\"senses: {len(senses)}\")\n",
    "print(f\"avg senses per headword: {len(senses)/len(headwords)}\")\n",
    "print(f\"avg senses per headword with multiple senses: {(len(senses) - (len(headwords) - len(multi_sense_headwords)))/len(multi_sense_headwords)}\")\n",
    "print(f\"proportion of senses with gloss: {len(s_gloss)/len(senses)}\")\n",
    "print(f\"avg length of gloss: {sum([len(g) for g in gloss])/len(gloss)}\")\n",
    "print(f\"proportion of senes with examples: {len(s_examples)/len(senses)}\")\n",
    "print(f\"avg number of examples per sense: {len(examples)/len(senses)}\")\n",
    "print(f\"avg examples per sense with examples: {len(examples)/len(s_examples)}\")\n",
    "print(f\"avg length of example: {sum([len(e) for e in examples])/len(examples)}\")\n"
   ]
  },
  {
   "cell_type": "code",
   "execution_count": 4,
   "metadata": {},
   "outputs": [
    {
     "name": "stdout",
     "output_type": "stream",
     "text": [
      "Wordnet\n",
      "headwords: 86555\n",
      "avg senses per headword: 1.3593553232048987\n",
      "avg senses per headword with multiple senses: 7.526322522868291 (15633)\n",
      "proportion of senses with gloss: 1.0\n",
      "avg length of gloss: 59.520674151573616\n",
      "proportion of senes with examples: 32923 (27.98%)\n",
      "avg number of examples per sense: 0.4108397997603243\n",
      "avg number of examples per sense with examples: 1.468244084682441\n",
      "avg length of example: 34.169324975692504\n"
     ]
    }
   ],
   "source": [
    "print(\"Wordnet\")\n",
    "\n",
    "headwords = []\n",
    "gloss_senses = []\n",
    "example_senes = []\n",
    "multi_sense_headwords = []\n",
    "senses = []\n",
    "glosses = []\n",
    "examples = []\n",
    "\n",
    "for lemma in wn_sense_id:\n",
    "    headwords.append(lemma[\"key\"])\n",
    "    if len(lemma[\"entries\"]) > 1:\n",
    "        multi_sense_headwords.append(lemma[\"key\"])\n",
    "    for s in lemma[\"entries\"]:\n",
    "        senses.append(s[\"identifier\"])\n",
    "        if s[\"sense\"] != \"\":\n",
    "            gloss_senses.append(s[\"identifier\"])\n",
    "            glosses.append(s[\"sense\"])\n",
    "        for e in s[\"examples\"]:\n",
    "            example_senes.append(s[\"identifier\"])\n",
    "            examples.append(e)\n",
    "\n",
    "entries_with_gloss = len(set(gloss_senses))\n",
    "\n",
    "example_senes = list(set(example_senes))\n",
    "\n",
    "\n",
    "print(f\"headwords: {len(headwords)}\")\n",
    "print(f\"avg senses per headword: {len(senses)/len(headwords)}\")\n",
    "print(f\"avg senses per headword with multiple senses: {len(senses)/len(multi_sense_headwords)} ({len(multi_sense_headwords)})\")\n",
    "print(f\"proportion of senses with gloss: {entries_with_gloss/len(senses)}\")\n",
    "print(f\"avg length of gloss: {sum([len(g) for g in glosses])/len(glosses)}\")\n",
    "print(f\"proportion of senes with examples: {len(example_senes)} ({len(example_senes)/len(senses)*100 :.2f}%)\")\n",
    "print(f\"avg number of examples per sense: {len(examples)/len(senses)}\")\n",
    "print(f\"avg number of examples per sense with examples: {len(examples)/len(example_senes)}\")\n",
    "print(f\"avg length of example: {sum([len(e) for e in examples])/len(examples)}\")\n"
   ]
  }
 ],
 "metadata": {
  "kernelspec": {
   "display_name": "venv",
   "language": "python",
   "name": "python3"
  },
  "language_info": {
   "codemirror_mode": {
    "name": "ipython",
    "version": 3
   },
   "file_extension": ".py",
   "mimetype": "text/x-python",
   "name": "python",
   "nbconvert_exporter": "python",
   "pygments_lexer": "ipython3",
   "version": "3.10.12"
  }
 },
 "nbformat": 4,
 "nbformat_minor": 5
}
