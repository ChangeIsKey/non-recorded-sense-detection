{
 "cells": [
  {
   "cell_type": "markdown",
   "metadata": {},
   "source": [
    "### Model embeddings\n",
    "This notebook creates sense embeddings using the pre-trained xl-lexeme model.\n",
    "\n",
    "### Usage\n",
    "Set the `source_file` variable in the second cell to the path of the file containing the context sentences created by the `extract_context.ipynb` script.\n",
    "To create example embeddings, use the `get_average_vector` function in the fifth cell."
   ]
  },
  {
   "cell_type": "code",
   "execution_count": 2,
   "metadata": {},
   "outputs": [],
   "source": [
    "import json\n",
    "import sys\n",
    "\n",
    "sys.path.insert(1, '../xl-lexeme/WordTransformer')\n",
    "\n",
    "from InputExample import InputExample\n",
    "from WordTransformer import WordTransformer\n",
    "\n",
    "model = WordTransformer('pierluigic/xl-lexeme') # load xl-lexeme model"
   ]
  },
  {
   "cell_type": "code",
   "execution_count": 8,
   "metadata": {},
   "outputs": [],
   "source": [
    "source_file = '../data/outputs/dictionary_context/wordnet_sense_id_context_[3].json' \n",
    "output_file = f\"../data/outputs/sense_embeddings/english/{source_file.split('/')[-1].split('.')[0]}_embeddings.json\""
   ]
  },
  {
   "cell_type": "code",
   "execution_count": 4,
   "metadata": {},
   "outputs": [],
   "source": [
    "# get vector for word usage\n",
    "def get_average_vector(inputs):\n",
    "    vectors = model.encode(inputs) # get vectors for all inputs\n",
    "    return sum(vectors) / len(vectors) # return average vector"
   ]
  },
  {
   "cell_type": "code",
   "execution_count": 9,
   "metadata": {},
   "outputs": [],
   "source": [
    "# count total senses\n",
    "with open(source_file) as f:\n",
    "    data = json.load(f)\n",
    "    total_senses = 0\n",
    "\n",
    "    for d in data:\n",
    "        for s in data[d]:\n",
    "            total_senses += 1"
   ]
  },
  {
   "cell_type": "code",
   "execution_count": 10,
   "metadata": {},
   "outputs": [
    {
     "name": "stdout",
     "output_type": "stream",
     "text": [
      "Total embeddings: 117659\n"
     ]
    }
   ],
   "source": [
    "# create sense embeddings\n",
    "total_embeddings = 0\n",
    "\n",
    "for entry in data:\n",
    "    for sense in data[entry]:\n",
    "        \n",
    "        # get data from json\n",
    "        usages = sense['usages']\n",
    "        gloss = usages['usage']\n",
    "        target = usages['target']\n",
    "        \n",
    "        inputs = InputExample(texts=gloss, positions=target) # create input example (see xl-lexeme documentation)\n",
    "        #embedding = get_average_vector(inputs).tolist() # get average vector (for example embeddings)\n",
    "        embedding = model.encode(inputs).tolist() # get vector (for gloss embeddings)\n",
    "        total_embeddings += 1\n",
    "        sense['embedding'] = embedding\n",
    "\n",
    "    # print percentage done\n",
    "    print(f\"{total_embeddings / total_senses * 100:.2f} %\", end='\\r')\n",
    "\n",
    "print(f\"Total embeddings: {total_embeddings}\")"
   ]
  },
  {
   "cell_type": "code",
   "execution_count": 11,
   "metadata": {},
   "outputs": [],
   "source": [
    "with open(output_file, 'w', encoding='utf-8') as f:\n",
    "    json.dump(data, f, indent=4)"
   ]
  }
 ],
 "metadata": {
  "kernelspec": {
   "display_name": "venv",
   "language": "python",
   "name": "python3"
  },
  "language_info": {
   "codemirror_mode": {
    "name": "ipython",
    "version": 3
   },
   "file_extension": ".py",
   "mimetype": "text/x-python",
   "name": "python",
   "nbconvert_exporter": "python",
   "pygments_lexer": "ipython3",
   "version": "3.10.12"
  },
  "orig_nbformat": 4
 },
 "nbformat": 4,
 "nbformat_minor": 2
}
